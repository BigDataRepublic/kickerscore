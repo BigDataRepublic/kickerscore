{
 "cells": [
  {
   "cell_type": "code",
   "execution_count": 64,
   "metadata": {},
   "outputs": [],
   "source": [
    "from trueskill import Rating, quality, rate, TrueSkill\n",
    "\n",
    "mu = 1000\n",
    "sigma = mu/3\n",
    "beta = sigma/2\n",
    "tau = sigma/100\n",
    "draw_probability = 0.01\n",
    "\n",
    "ts = TrueSkill(mu=mu, sigma=sigma, beta=beta, tau=tau, draw_probability=draw_probability)"
   ]
  },
  {
   "cell_type": "code",
   "execution_count": 71,
   "metadata": {},
   "outputs": [],
   "source": [
    "player1 = Rating(mu=1000, sigma=333)\n",
    "player2 = Rating(mu=2000, sigma=100)\n",
    "\n",
    "player3 = Rating(mu=1000, sigma=333)\n",
    "player4 = Rating(mu=1800, sigma=200)\n",
    "\n",
    "team1 = [player1, player2]\n",
    "team2 = [player3, player4]"
   ]
  },
  {
   "cell_type": "code",
   "execution_count": 72,
   "metadata": {},
   "outputs": [
    {
     "name": "stdout",
     "output_type": "stream",
     "text": [
      "Draw chance: 0.51\n"
     ]
    }
   ],
   "source": [
    "draw_chance = ts.quality([team1, team2])\n",
    "print(f'Draw chance: {draw_chance:.2f}')"
   ]
  },
  {
   "cell_type": "code",
   "execution_count": 73,
   "metadata": {},
   "outputs": [
    {
     "name": "stdout",
     "output_type": "stream",
     "text": [
      "trueskill.Rating(mu=1108.952, sigma=304.714) trueskill.Rating(mu=2009.835, sigma=99.318) trueskill.Rating(mu=891.048, sigma=304.714) trueskill.Rating(mu=1760.692, sigma=194.066)\n"
     ]
    }
   ],
   "source": [
    "# Let's say team1 won\n",
    "\n",
    "(new_player1, new_player2), (new_player3, new_player4) = ts.rate([team1, team2], ranks=[0, 1])\n",
    "\n",
    "print(new_player1, new_player2, new_player3, new_player4)"
   ]
  },
  {
   "cell_type": "code",
   "execution_count": 81,
   "metadata": {},
   "outputs": [
    {
     "data": {
      "text/plain": [
       "0.6267343390037063"
      ]
     },
     "execution_count": 81,
     "metadata": {},
     "output_type": "execute_result"
    }
   ],
   "source": [
    "import itertools\n",
    "import math\n",
    "\n",
    "def win_probability(ts, team1, team2):\n",
    "    delta_mu = sum(r.mu for r in team1) - sum(r.mu for r in team2)\n",
    "    sum_sigma = sum(r.sigma ** 2 for r in itertools.chain(team1, team2))\n",
    "    size = len(team1) + len(team2)\n",
    "    denom = math.sqrt(size * (ts.beta ** 2) + sum_sigma)\n",
    "    return ts.cdf(delta_mu / denom)\n",
    "\n",
    "win_probability(ts, team1, team2)"
   ]
  },
  {
   "cell_type": "code",
   "execution_count": null,
   "metadata": {},
   "outputs": [],
   "source": []
  }
 ],
 "metadata": {
  "kernelspec": {
   "display_name": "Python 3",
   "language": "python",
   "name": "python3"
  },
  "language_info": {
   "codemirror_mode": {
    "name": "ipython",
    "version": 3
   },
   "file_extension": ".py",
   "mimetype": "text/x-python",
   "name": "python",
   "nbconvert_exporter": "python",
   "pygments_lexer": "ipython3",
   "version": "3.6.5"
  }
 },
 "nbformat": 4,
 "nbformat_minor": 2
}
